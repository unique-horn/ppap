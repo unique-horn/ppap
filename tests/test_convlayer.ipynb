{
 "cells": [
  {
   "cell_type": "code",
   "execution_count": 1,
   "metadata": {
    "collapsed": false
   },
   "outputs": [],
   "source": [
    "%load_ext autoreload\n",
    "%autoreload 2\n",
    "%matplotlib inline"
   ]
  },
  {
   "cell_type": "code",
   "execution_count": 50,
   "metadata": {
    "collapsed": false
   },
   "outputs": [],
   "source": [
    "from keras.models import Sequential, Model\n",
    "from keras.layers import Flatten, Dense, Dropout, Reshape, Permute, Activation, Input, merge\n",
    "from keras.optimizers import SGD, adam\n",
    "import numpy as np\n",
    "\n",
    "from keras.utils import np_utils\n",
    "from keras.datasets import mnist\n",
    "from ppap.layers.ppconv import PPConv\n",
    "\n",
    "(X_train, y_train), (X_test, y_test) = mnist.load_data()\n",
    "X_train = np.expand_dims(X_train, axis=1)\n",
    "y_train = np_utils.to_categorical(y_train, 10)\n",
    "X_test = np.expand_dims(X_test, axis=1)\n",
    "y_test = np_utils.to_categorical(y_test, 10)"
   ]
  },
  {
   "cell_type": "code",
   "execution_count": 60,
   "metadata": {
    "collapsed": false,
    "scrolled": true
   },
   "outputs": [
    {
     "name": "stdout",
     "output_type": "stream",
     "text": [
      "ola\n",
      "ola\n",
      "____________________________________________________________________________________________________\n",
      "Layer (type)                     Output Shape          Param #     Connected to                     \n",
      "====================================================================================================\n",
      "inputs (InputLayer)              (None, 1, 28, 28)     0                                            \n",
      "____________________________________________________________________________________________________\n",
      "ppconv_38 (PPConv)               (None, 2, 28, 28)     291         inputs[0][0]                     \n",
      "____________________________________________________________________________________________________\n",
      "ppconv_39 (PPConv)               (None, 2, 28, 28)     291         ppconv_38[0][0]                  \n",
      "____________________________________________________________________________________________________\n",
      "flatten_18 (Flatten)             (None, 1568)          0           ppconv_39[0][0]                  \n",
      "____________________________________________________________________________________________________\n",
      "dense_18 (Dense)                 (None, 10)            15690       flatten_18[0][0]                 \n",
      "====================================================================================================\n",
      "Total params: 16272\n",
      "____________________________________________________________________________________________________\n",
      "Epoch 1/2\n",
      "60000/60000 [==============================] - 38s - loss: 14.3739 - acc: 0.1082    \n",
      "Epoch 2/2\n",
      "60000/60000 [==============================] - 42s - loss: 13.5661 - acc: 0.1583    \n"
     ]
    },
    {
     "data": {
      "text/plain": [
       "<keras.callbacks.History at 0x7f6d46621fd0>"
      ]
     },
     "execution_count": 60,
     "metadata": {},
     "output_type": "execute_result"
    }
   ],
   "source": [
    "inputs = Input(shape=(1, 28, 28), name=\"inputs\")\n",
    "ppconv_1 = PPConv(weight_shape=(3, 3), layer_sizes=[10, 10, 10], nb_filters=2)(inputs)\n",
    "ppconv_1 =  Activation(activation=\"relu\")(ppconv_1)\n",
    "\n",
    "ppconv_2 = PPConv(weight_shape=(3, 3), layer_sizes=[10, 10, 10], nb_filters=2)(ppconv_1)\n",
    "ppconv_2 =  Activation(activation=\"relu\")(ppconv_2)\n",
    "\n",
    "flat = Flatten()(ppconv_2)\n",
    "dense_1 = Dense(output_dim=10, activation=\"softmax\")(flat)\n",
    "\n",
    "model = Model(input=inputs, output=[dense_1])\n",
    "model.compile(loss=\"categorical_crossentropy\", optimizer=\"rmsprop\", metrics=[\"accuracy\"])\n",
    "\n",
    "model.summary()\n",
    "model.fit(x=X_train, y=y_train, nb_epoch=2, verbose=1)"
   ]
  }
 ],
 "metadata": {
  "anaconda-cloud": {},
  "kernelspec": {
   "display_name": "Python [default]",
   "language": "python",
   "name": "python3"
  },
  "language_info": {
   "codemirror_mode": {
    "name": "ipython",
    "version": 3
   },
   "file_extension": ".py",
   "mimetype": "text/x-python",
   "name": "python",
   "nbconvert_exporter": "python",
   "pygments_lexer": "ipython3",
   "version": "3.5.2"
  },
  "latex_envs": {
   "bibliofile": "biblio.bib",
   "cite_by": "apalike",
   "current_citInitial": 1,
   "eqLabelWithNumbers": true,
   "eqNumInitial": 0
  }
 },
 "nbformat": 4,
 "nbformat_minor": 0
}
